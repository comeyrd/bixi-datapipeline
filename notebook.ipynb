{
 "cells": [
  {
   "cell_type": "code",
   "execution_count": 1,
   "id": "b452a62e",
   "metadata": {},
   "outputs": [],
   "source": [
    "import requests\n",
    "import json\n",
    "from datetime import datetime\n",
    "import time"
   ]
  },
  {
   "cell_type": "code",
   "execution_count": 2,
   "id": "fcd9ab05",
   "metadata": {},
   "outputs": [],
   "source": [
    "def fetch_json(url):\n",
    "    try: \n",
    "        response = requests.get(url)\n",
    "        response.raise_for_status()\n",
    "        return response.json()\n",
    "    except Exception as e:\n",
    "        print(f\"Error fetching JSON from {url}: {e}\")\n",
    "        return {}"
   ]
  },
  {
   "cell_type": "code",
   "execution_count": 13,
   "id": "b78def4f",
   "metadata": {},
   "outputs": [],
   "source": [
    "BASE_URL = \"https://gbfs.velobixi.com/gbfs/gbfs.json\"\n",
    "STATION_STATUS = \"station_status\"\n",
    "MINIMUM_WAIT = 2 # second\n"
   ]
  },
  {
   "cell_type": "code",
   "execution_count": 4,
   "id": "aa816e25",
   "metadata": {},
   "outputs": [],
   "source": [
    "def retreive_urls():\n",
    "    urls = fetch_json(BASE_URL)\n",
    "    return find_url_bixi(urls,STATION_STATUS)\n",
    "\n",
    "def find_url_bixi(urls,name):\n",
    "    for item in urls[\"data\"][\"en\"][\"feeds\"]:\n",
    "        if item[\"name\"]==name:\n",
    "            return item[\"url\"]"
   ]
  },
  {
   "cell_type": "code",
   "execution_count": 5,
   "id": "845b0b1f",
   "metadata": {},
   "outputs": [],
   "source": [
    "station_status_url = retreive_urls()\n"
   ]
  },
  {
   "cell_type": "code",
   "execution_count": 6,
   "id": "e1dc9225",
   "metadata": {},
   "outputs": [],
   "source": [
    "station_status = fetch_json(station_status_url)"
   ]
  },
  {
   "cell_type": "code",
   "execution_count": 20,
   "id": "6e2d2a52",
   "metadata": {},
   "outputs": [
    {
     "data": {
      "text/plain": [
       "{'station_id': '1',\n",
       " 'num_bikes_available': 18,\n",
       " 'num_ebikes_available': 14,\n",
       " 'num_bikes_disabled': 0,\n",
       " 'num_docks_available': 1,\n",
       " 'num_docks_disabled': 0,\n",
       " 'is_installed': 1,\n",
       " 'is_renting': 1,\n",
       " 'is_returning': 1,\n",
       " 'last_reported': 1748550391,\n",
       " 'eightd_has_available_keys': False,\n",
       " 'is_charging': False}"
      ]
     },
     "execution_count": 20,
     "metadata": {},
     "output_type": "execute_result"
    }
   ],
   "source": [
    "station_status[\"data\"][\"stations\"][0]"
   ]
  },
  {
   "cell_type": "code",
   "execution_count": 7,
   "id": "9c5a3b9c",
   "metadata": {},
   "outputs": [
    {
     "data": {
      "text/plain": [
       "10"
      ]
     },
     "execution_count": 7,
     "metadata": {},
     "output_type": "execute_result"
    }
   ],
   "source": [
    "station_status[\"ttl\"]"
   ]
  },
  {
   "cell_type": "code",
   "execution_count": null,
   "id": "218c789b",
   "metadata": {},
   "outputs": [
    {
     "name": "stdout",
     "output_type": "stream",
     "text": [
      "9.864460945129395\n",
      "yay\n"
     ]
    }
   ],
   "source": [
    "station_status = fetch_json(station_status_url)\n",
    "now = \n",
    "towait = (station_status[\"last_updated\"] + (station_status[\"ttl\"])) - datetime.now().timestamp()\n",
    "if towait < 0:\n",
    "    towait = 0\n",
    "towait += MINIMUM_WAIT\n",
    "print(towait)\n",
    "time.sleep(towait)\n",
    "station_status2 = fetch_json(station_status_url)\n",
    "if(station_status2[\"last_updated\"] != station_status[\"last_updated\"]):\n",
    "    add_to_average(average,station_status)"
   ]
  },
  {
   "cell_type": "code",
   "execution_count": null,
   "id": "710a7313",
   "metadata": {},
   "outputs": [],
   "source": [
    "from collections import defaultdict\n"
   ]
  },
  {
   "cell_type": "code",
   "execution_count": null,
   "id": "df282621",
   "metadata": {},
   "outputs": [],
   "source": [
    "FIELDS = ['num_bikes_available','num_ebikes_available','num_bikes_disabled','num_docks_available','num_docks_disabled','is_installed','is_renting','is_returning']\n",
    "MINIMUM_WAIT = 2"
   ]
  },
  {
   "cell_type": "code",
   "execution_count": 22,
   "id": "6808a107",
   "metadata": {},
   "outputs": [],
   "source": [
    "def floor_to_previous_15min(posix_timestamp):\n",
    "    interval = 15 * 60  # 15mn\n",
    "    floored_timestamp = (posix_timestamp // interval) * interval\n",
    "    return floored_timestamp"
   ]
  },
  {
   "cell_type": "code",
   "execution_count": null,
   "id": "f58aacc9",
   "metadata": {},
   "outputs": [],
   "source": [
    "def add_to_agg(agregate_holder,station_status_json):\n",
    "    for station in station_status_json[\"data\"][\"stations\"]:\n",
    "        for field in FIELDS:\n",
    "            agregate_holder[station[\"station_id\"]][field] += station[field]\n"
   ]
  },
  {
   "cell_type": "code",
   "execution_count": 36,
   "id": "5003a069",
   "metadata": {},
   "outputs": [],
   "source": [
    "import math\n",
    "def compute_ceiled_means(aggregate_holder, nb_updates,start_time):\n",
    "    results = []\n",
    "    for station_id, field_sums in aggregate_holder.items():\n",
    "        agg = {\n",
    "            \"station_id\": station_id,\n",
    "            \"timestamp\": start_time\n",
    "        }\n",
    "\n",
    "        for field, total in field_sums.items():\n",
    "            mean = total / nb_updates\n",
    "            agg[field] = math.ceil(mean)\n",
    "        results.append(agg)\n",
    "\n",
    "    return results"
   ]
  },
  {
   "cell_type": "code",
   "execution_count": null,
   "id": "6d98fef5",
   "metadata": {},
   "outputs": [
    {
     "name": "stdout",
     "output_type": "stream",
     "text": [
      "Sleeping ...\n",
      "adding to aggregate\n",
      "Sleeping ...\n",
      "adding to aggregate\n",
      "Sleeping ...\n",
      "adding to aggregate\n",
      "Sleeping ...\n",
      "adding to aggregate\n",
      "Sleeping ...\n",
      "Sleeping ...\n",
      "adding to aggregate\n",
      "Sleeping ...\n",
      "Sleeping ...\n",
      "oho\n"
     ]
    }
   ],
   "source": []
  },
  {
   "cell_type": "code",
   "execution_count": 40,
   "id": "0394dbe0",
   "metadata": {},
   "outputs": [],
   "source": [
    "import psycopg2\n",
    "from dotenv import load_dotenv\n",
    "import os\n",
    "\n",
    "load_dotenv()\n",
    "\n",
    "def get_pg_connection():\n",
    "    return psycopg2.connect(\n",
    "        user=os.getenv(\"user\"),\n",
    "        password=os.getenv(\"password\"),\n",
    "        host=os.getenv(\"host\"),\n",
    "        port=os.getenv(\"port\"),\n",
    "        dbname=os.getenv(\"dbname\")\n",
    "    )   "
   ]
  },
  {
   "cell_type": "code",
   "execution_count": null,
   "id": "c04bd530",
   "metadata": {},
   "outputs": [],
   "source": [
    "from psycopg2.extras import execute_batch\n",
    "def insert_ceiled_means(dict_rows):\n",
    "    rows = [\n",
    "        (\n",
    "            row[\"station_id\"],\n",
    "            row[\"timestamp\"],  # integer UNIX timestamp\n",
    "            row[\"num_bikes_available\"],\n",
    "            row[\"num_ebikes_available\"],\n",
    "            row[\"num_bikes_disabled\"],\n",
    "            row[\"num_docks_available\"],\n",
    "            row[\"num_docks_disabled\"]\n",
    "        )\n",
    "        for row in dict_rows\n",
    "    ]\n",
    "\n",
    "    insert_query = \"\"\"\n",
    "        INSERT INTO bixi_dispo (\n",
    "            station_id, timestamp,\n",
    "            num_bikes_available, num_ebikes_available,\n",
    "            num_bikes_disabled, num_docks_available, num_docks_disabled\n",
    "        )\n",
    "        VALUES (\n",
    "            %s,\n",
    "            TO_TIMESTAMP(%s),\n",
    "            %s, %s, %s, %s, %s\n",
    "        )\n",
    "    \"\"\"\n",
    "\n",
    "    try:\n",
    "        conn = get_pg_connection()\n",
    "        cur = conn.cursor()\n",
    "        cur.execute(\"SET TIME ZONE 'America/Montreal';\")\n",
    "        execute_batch(cur, insert_query, rows)\n",
    "        conn.commit()\n",
    "        cur.close()\n",
    "        conn.close()\n",
    "        print(\"Inserted\", len(rows), \"rows.\")\n",
    "    except Exception as e:\n",
    "        print(\"Failed to insert:\", e)\n"
   ]
  },
  {
   "cell_type": "code",
   "execution_count": null,
   "id": "b059b383",
   "metadata": {},
   "outputs": [
    {
     "name": "stdout",
     "output_type": "stream",
     "text": [
      ".......................Finishing the 15mn\n",
      "Inserted 959 rows.\n",
      ".....................................................................Finishing the 15mn\n",
      "Inserted 959 rows.\n"
     ]
    }
   ],
   "source": [
    "station_status = fetch_json(station_status_url)\n",
    "while(True):\n",
    "    agregate_holder = defaultdict(lambda: defaultdict(int))\n",
    "    nb_updates = 0\n",
    "    start_time = floor_to_previous_15min(station_status[\"last_updated\"])\n",
    "    max_time = start_time + 15 * 60 # 15mn\n",
    "    #max_time = station_status[\"last_updated\"] + 60 # 15mn\n",
    "    add_to_agg(agregate_holder,nb_updates,station_status)\n",
    "    nb_updates+=1\n",
    "    towait = (station_status[\"last_updated\"] + (station_status[\"ttl\"])) - datetime.now().timestamp()\n",
    "    if(towait < 0):\n",
    "        towait = 0\n",
    "    towait +=MINIMUM_WAIT\n",
    "    time.sleep(towait)\n",
    "    prev_timestamp = station_status[\"last_updated\"]\n",
    "    while True:\n",
    "        u_station_status = fetch_json(station_status_url)\n",
    "        if u_station_status[\"last_updated\"] > max_time:\n",
    "            station_status = u_station_status\n",
    "            print(\"Finishing the 15mn\")\n",
    "            break\n",
    "        if u_station_status[\"last_updated\"] != prev_timestamp :\n",
    "            print(\".\",end=\"\")\n",
    "            add_to_agg(agregate_holder,nb_updates,station_status) \n",
    "            nb_updates+=1\n",
    "            prev_timestamp = u_station_status[\"last_updated\"] \n",
    "        towait = (u_station_status[\"last_updated\"] + (u_station_status[\"ttl\"])) - datetime.now().timestamp()\n",
    "        towait += MINIMUM_WAIT\n",
    "        if(towait < 0):\n",
    "            towait = 0\n",
    "        time.sleep(towait)\n",
    "    to_send = compute_ceiled_means(agregate_holder,nb_updates,start_time)\n",
    "    insert_ceiled_means(to_send)"
   ]
  }
 ],
 "metadata": {
  "kernelspec": {
   "display_name": ".venv",
   "language": "python",
   "name": "python3"
  },
  "language_info": {
   "codemirror_mode": {
    "name": "ipython",
    "version": 3
   },
   "file_extension": ".py",
   "mimetype": "text/x-python",
   "name": "python",
   "nbconvert_exporter": "python",
   "pygments_lexer": "ipython3",
   "version": "3.10.17"
  }
 },
 "nbformat": 4,
 "nbformat_minor": 5
}
